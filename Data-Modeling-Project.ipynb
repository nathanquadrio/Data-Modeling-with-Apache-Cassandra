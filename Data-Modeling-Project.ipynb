{
 "cells": [
  
  {
   "cell_type": "markdown",
   "metadata": {},
   "source": [
    "## PLEASE RUN THE FOLLOWING CODE FOR PRE-PROCESSING THE FILES"
   ]
  },
  {
   "cell_type": "markdown",
   "metadata": {},
   "source": [
    "#### Import Python packages "
   ]
  },
  {
   "cell_type": "code",
   "execution_count": 2,
   "metadata": {},
   "outputs": [],
   "source": [
    "# Import Python packages \n",
    "import pandas as pd\n",
    "import cassandra\n",
    "import re\n",
    "import os\n",
    "import glob\n",
    "import numpy as np\n",
    "import json\n",
    "import csv"
   ]
  },
  {
   "cell_type": "markdown",
   "metadata": {},
   "source": [
    "#### Creating list of filepaths to process original event csv data files"
   ]
  },
  {
   "cell_type": "code",
   "execution_count": 3,
   "metadata": {},
   "outputs": [
    {
     "name": "stdout",
     "output_type": "stream",
     "text": [
      "/workspace/home\n"
     ]
    }
   ],
   "source": [
    "# checking your current working directory\n",
    "print(os.getcwd())\n",
    "\n",
    "# Get your current folder and subfolder event data\n",
    "filepath = os.getcwd() + '/event_data'\n",
    "\n",
    "# Create a for loop to create a list of files and collect each filepath\n",
    "for root, dirs, files in os.walk(filepath):\n",
    "    \n",
    "# join the file path and roots with the subdirectories using glob\n",
    "    file_path_list = glob.glob(os.path.join(root,'*'))\n",
    "    #print(file_path_list)"
   ]
  },
  {
   "cell_type": "markdown",
   "metadata": {},
   "source": [
    "#### Processing the files to create the data file csv that will be used for Apache Casssandra tables"
   ]
  },
  {
   "cell_type": "code",
   "execution_count": 4,
   "metadata": {},
   "outputs": [
    {
     "name": "stdout",
     "output_type": "stream",
     "text": [
      "8056\n"
     ]
    }
   ],
   "source": [
    "# initiating an empty list of rows that will be generated from each file\n",
    "full_data_rows_list = [] \n",
    "    \n",
    "# for every filepath in the file path list \n",
    "for f in file_path_list:\n",
    "\n",
    "# reading csv file \n",
    "    with open(f, 'r', encoding = 'utf8', newline='') as csvfile: \n",
    "        # creating a csv reader object \n",
    "        csvreader = csv.reader(csvfile) \n",
    "        next(csvreader)\n",
    "        \n",
    " # extracting each data row one by one and append it        \n",
    "        for line in csvreader:\n",
    "            #print(line)\n",
    "            full_data_rows_list.append(line) \n",
    "            \n",
    "# uncomment the code below if you would like to get total number of rows \n",
    "print(len(full_data_rows_list))\n",
    "# uncomment the code below if you would like to check to see what the list of event data rows will look like\n",
    "#print(full_data_rows_list)\n",
    "\n",
    "# creating a smaller event data csv file called event_datafile_full csv that will be used to insert data into the \\\n",
    "# Apache Cassandra tables\n",
    "csv.register_dialect('myDialect', quoting=csv.QUOTE_ALL, skipinitialspace=True)\n",
    "\n",
    "with open('event_datafile_new.csv', 'w', encoding = 'utf8', newline='') as f:\n",
    "    writer = csv.writer(f, dialect='myDialect')\n",
    "    writer.writerow(['artist','firstName','gender','itemInSession','lastName','length',\\\n",
    "                'level','location','sessionId','song','userId'])\n",
    "    for row in full_data_rows_list:\n",
    "        if (row[0] == ''):\n",
    "            continue\n",
    "        writer.writerow((row[0], row[2], row[3], row[4], row[5], row[6], row[7], row[8], row[12], row[13], row[16]))\n"
   ]
  },
  {
   "cell_type": "code",
   "execution_count": 5,
   "metadata": {},
   "outputs": [
    {
     "name": "stdout",
     "output_type": "stream",
     "text": [
      "6821\n"
     ]
    }
   ],
   "source": [
    "# check the number of rows in your csv file\n",
    "with open('event_datafile_new.csv', 'r', encoding = 'utf8') as f:\n",
    "    print(sum(1 for line in f))"
   ]
  },
  {
   "cell_type": "markdown",
   "metadata": {},
   "source": [
    "## Now we work with the CSV file titled <font color=red>event_datafile_new.csv</font>, located within the Workspace directory.  The event_datafile_new.csv contains the following columns: \n",
    "- artist \n",
    "- firstName of user\n",
    "- gender of user\n",
    "- item number in session\n",
    "- last name of user\n",
    "- length of the song\n",
    "- level (paid or free song)\n",
    "- location of the user\n",
    "- sessionId\n",
    "- song title\n",
    "- userId\n",
    "\n",
    "The image below is a screenshot of what the denormalized data should appear like in the <font color=red>**event_datafile_new.csv**</font> after the code above is run:<br>\n",
    "\n",
    "<img src=\"images/image_event_datafile_new.jpg\">"
   ]
  },
  {
   "cell_type": "markdown",
   "metadata": {},
   "source": [
    "## Begin writing your Apache Cassandra code in the cells below"
   ]
  },
  {
   "cell_type": "markdown",
   "metadata": {},
   "source": [
    "#### Creating a Cluster"
   ]
  },
  {
   "cell_type": "code",
   "execution_count": 6,
   "metadata": {},
   "outputs": [],
   "source": [
    "# Create a connection to a Cassandra instance \n",
    "\n",
    "from cassandra.cluster import Cluster\n",
    "try: \n",
    "    cluster = Cluster(['127.0.0.1'])\n",
    "    session = cluster.connect()\n",
    "except Exception as e:\n",
    "    print(e)\n",
    "\n",
    "# To establish connection and begin executing queries, need a session\n",
    "session = cluster.connect()"
   ]
  },
  {
   "cell_type": "markdown",
   "metadata": {},
   "source": [
    "#### Create Keyspace"
   ]
  },
  {
   "cell_type": "code",
   "execution_count": 7,
   "metadata": {},
   "outputs": [],
   "source": [
    "# Create a Keyspace to do our work in\n",
    "try:\n",
    "    session.execute(\"\"\"\n",
    "    CREATE KEYSPACE IF NOT EXISTS udacity \n",
    "    WITH REPLICATION = \n",
    "    { 'class' : 'SimpleStrategy', 'replication_factor' : 1 }\"\"\"\n",
    ")\n",
    "\n",
    "except Exception as e:\n",
    "    print(e)"
   ]
  },
  {
   "cell_type": "markdown",
   "metadata": {},
   "source": [
    "#### Set Keyspace"
   ]
  },
  {
   "cell_type": "code",
   "execution_count": 8,
   "metadata": {},
   "outputs": [],
   "source": [
    "# Connect to the keyspace specified above\n",
    "try:\n",
    "    session.set_keyspace('udacity')\n",
    "except Exception as e:\n",
    "    print(e)"
   ]
  },
  {
   "cell_type": "markdown",
   "metadata": {},
   "source": [
    "### Now we need to create tables to run the following queries. Remember, with Apache Cassandra you model the database tables on the queries you want to run."
   ]
  },
  {
   "cell_type": "markdown",
   "metadata": {},
   "source": [
    "## Create queries to ask the following three questions of the data\n",
    "\n",
    "### 1. Give me the artist, song title and song's length in the music app history that was heard during  sessionId = 338, and itemInSession  = 4\n",
    "\n",
    "\n",
    "### 2. Give me only the following: name of artist, song (sorted by itemInSession) and user (first and last name) for userid = 10, sessionid = 182\n",
    "    \n",
    "\n",
    "### 3. Give me every user name (first and last) in my music app history who listened to the song 'All Hands Against His Own'\n",
    "\n",
    "\n"
   ]
  },
  {
   "cell_type": "code",
   "execution_count": 9,
   "metadata": {},
   "outputs": [],
   "source": [
    "# -------------------------------\n",
    "# Table Creation: music_app_history\n",
    "# -------------------------------\n",
    "\n",
    "# Create music_app_history Table\n",
    "# The table is designed to facilitate efficient retrieval of music playback information by session.\n",
    "# The PRIMARY KEY comprises 'sessionId' and 'itemInSession':\n",
    "# - 'sessionId' serves as the partition key, meaning all items from the same session are stored together, \n",
    "#   which optimizes queries that retrieve all items from a specific session.\n",
    "# - 'itemInSession' is used as a clustering key to maintain the order of playback within each session,\n",
    "#   allowing for queries that need to access the exact order of songs in a session.\n",
    "\n",
    "try:\n",
    "    session.execute(\"\"\"\n",
    "    CREATE TABLE IF NOT EXISTS music_app_history (\n",
    "        sessionId int,\n",
    "        itemInSession int,\n",
    "        artist_name text,\n",
    "        song_title text,\n",
    "        song_length float,\n",
    "        PRIMARY KEY (sessionId, itemInSession)\n",
    "    )\n",
    "    \"\"\")\n",
    "except Exception as e:\n",
    "    print(e)\n"
   ]
  },
  {
   "cell_type": "code",
   "execution_count": 10,
   "metadata": {
    "scrolled": false
   },
   "outputs": [],
   "source": [
    "# -------------------------------\n",
    "# Data Insertion into music_app_history Table\n",
    "# Description: This section reads from 'event_datafile_new.csv', which contains event data from the music app.\n",
    "# -------------------------------\n",
    "\n",
    "# Open the CSV file and set up a reader\n",
    "file = 'event_datafile_new.csv'\n",
    "\n",
    "with open(file, encoding = 'utf8') as f:\n",
    "    csvreader = csv.reader(f)\n",
    "    next(csvreader) # skip header\n",
    "    \n",
    "    # Iterate over each line in the CSV file\n",
    "    for line in csvreader:\n",
    "        # Prepare the INSERT statement to add data into the Cassandra table\n",
    "        # This INSERT statement maps CSV columns to Cassandra table columns\n",
    "        query = \"INSERT INTO music_app_history (sessionId, itemInSession, artist_name, song_title, song_length) \"\n",
    "        query = query + \"VALUES (%s, %s, %s, %s, %s)\"\n",
    "        \n",
    "        # Execute the query with actual data from the CSV\n",
    "        # The data elements are type-casted as needed (e.g., sessionId and itemInSession are integers)\n",
    "        session.execute(query, (int(line[8]), int(line[3]), line[0], line[9], float(line[5])))"
   ]
  },
  {
   "cell_type": "markdown",
   "metadata": {},
   "source": [
    "#### Do a SELECT to verify that the data have been inserted into each table"
   ]
  },
  {
   "cell_type": "code",
   "execution_count": 11,
   "metadata": {
    "scrolled": true
   },
   "outputs": [
    {
     "name": "stdout",
     "output_type": "stream",
     "text": [
      "Faithless Music Matters (Mark Knight Dub) 495.30731201171875\n"
     ]
    }
   ],
   "source": [
    "# Query to Retrieve Song Details by Session\n",
    "query = \"\"\"\n",
    "SELECT artist_name, song_title, song_length \n",
    "FROM music_app_history \n",
    "WHERE sessionId = %s AND itemInSession = %s\n",
    "\"\"\"\n",
    "\n",
    "# Specify the values for the query parameters\n",
    "session_id = 338\n",
    "item_in_session = 4\n",
    "\n",
    "try:\n",
    "    rows = session.execute(query, (session_id, item_in_session))\n",
    "    for row in rows:\n",
    "        print(row.artist_name, row.song_title, row.song_length)\n",
    "except Exception as e:\n",
    "    print(e)"
   ]
  },
  {
   "cell_type": "markdown",
   "metadata": {},
   "source": [
    "### COPY AND REPEAT THE ABOVE THREE CELLS FOR EACH OF THE THREE QUESTIONS"
   ]
  },
  {
   "cell_type": "code",
   "execution_count": 12,
   "metadata": {},
   "outputs": [
    {
     "name": "stdout",
     "output_type": "stream",
     "text": [
      "Down To The Bone Keep On Keepin' On Sylvie Cruz\n",
      "Three Drives Greece 2000 Sylvie Cruz\n",
      "Sebastien Tellier Kilometer Sylvie Cruz\n",
      "Lonnie Gordon Catch You Baby (Steve Pitron & Max Sanna Radio Edit) Sylvie Cruz\n"
     ]
    }
   ],
   "source": [
    "# -------------------------------\n",
    "# Table Creation: user_session_history\n",
    "# -------------------------------\n",
    "\n",
    "# Define the table with appropriate data types and a primary key that includes a composite partition key (userId, sessionId)\n",
    "# and a clustering column (itemInSession). The clustering order by itemInSession ascending ensures that data within a \n",
    "# partition is sorted by the order of item appearance within a session, facilitating queries that need to retrieve items \n",
    "# in the sequence they were played.\n",
    "try:\n",
    "    session.execute(\"\"\"\n",
    "    CREATE TABLE IF NOT EXISTS user_session_history (\n",
    "        userId int,\n",
    "        sessionId int,\n",
    "        itemInSession int,\n",
    "        artist_name text,\n",
    "        song_title text,\n",
    "        user_first_name text,\n",
    "        user_last_name text,\n",
    "        PRIMARY KEY ((userId, sessionId), itemInSession)\n",
    "    )\n",
    "    WITH CLUSTERING ORDER BY (itemInSession ASC);\n",
    "    \"\"\")\n",
    "except Exception as e:\n",
    "    print(e)\n",
    "\n",
    "# -------------------------------\n",
    "# Data Insertion from CSV\n",
    "# Description: Reads event data from a CSV file and inserts each row into the user_session_history table.\n",
    "# -------------------------------\n",
    "    \n",
    "with open(file, encoding = 'utf8') as f:\n",
    "    csvreader = csv.reader(f)\n",
    "    next(csvreader) # skip header\n",
    "    \n",
    "    # Iterate over each line in the CSV file\n",
    "    for line in csvreader:\n",
    "        # Prepare the INSERT statement to add data into the Cassandra table\n",
    "        # This INSERT statement maps CSV columns to Cassandra table columns\n",
    "        query = \"INSERT INTO user_session_history (userId, sessionId, itemInSession, artist_name, song_title, user_first_name, user_last_name) \"\n",
    "        query = query + \"VALUES (%s, %s, %s, %s, %s, %s, %s)\"\n",
    "        \n",
    "        # Execute the query with actual data from the CSV\n",
    "        # The data elements are type-casted as needed (e.g., sessionId and itemInSession are integers)\n",
    "        session.execute(query, (int(line[10]), int(line[8]), int(line[3]), line[0], line[9], line[1], line[4]))\n",
    "\n",
    "# Query to retrieve artist, song title, and user's full name for a specific userId and sessionId, sorted by itemInSession\n",
    "query = \"\"\"\n",
    "SELECT artist_name, song_title, user_first_name, user_last_name \n",
    "FROM user_session_history \n",
    "WHERE userId = %s AND sessionId = %s\n",
    "\"\"\"\n",
    "\n",
    "# Specify the values for the query parameters\n",
    "user_id = 10\n",
    "session_id = 182\n",
    "\n",
    "try:\n",
    "    rows = session.execute(query, (user_id, session_id))\n",
    "    for row in rows:\n",
    "        print(row.artist_name, row.song_title, row.user_first_name, row.user_last_name)\n",
    "except Exception as e:\n",
    "    print(e)"
   ]
  },
  {
   "cell_type": "code",
   "execution_count": 13,
   "metadata": {},
   "outputs": [
    {
     "name": "stdout",
     "output_type": "stream",
     "text": [
      "Jacqueline Lynch\n",
      "Tegan Levine\n",
      "Sara Johnson\n"
     ]
    }
   ],
   "source": [
    "# -------------------------------\n",
    "# Table Creation: song_history\n",
    "# -------------------------------\n",
    "\n",
    "# Create song_history Table\n",
    "# The PRIMARY KEY is composed of 'song_title' and 'user_id'. 'song_title' is the partition key which groups all listens \n",
    "# of a song together, while 'user_id' as a clustering key ensures each entry is unique per user per song.\n",
    "try:\n",
    "    session.execute(\"\"\"\n",
    "    CREATE TABLE IF NOT EXISTS song_history (\n",
    "        song_title text,\n",
    "        user_id int,\n",
    "        user_first_name text,\n",
    "        user_last_name text,\n",
    "        PRIMARY KEY (song_title, user_id)\n",
    "    )\n",
    "    \"\"\")\n",
    "except Exception as e:\n",
    "    print(e)\n",
    "\n",
    "# -------------------------------\n",
    "# Data Insertion from CSV\n",
    "# Description: Reads from a CSV file containing song play events and inserts each event into the song_history table.\n",
    "# This is crucial for building up the database of song plays by different users.\n",
    "# -------------------------------    \n",
    "    \n",
    "with open(file, encoding='utf8') as f:\n",
    "    csvreader = csv.reader(f)\n",
    "    next(csvreader)  # Skip the header\n",
    "    \n",
    "    # Iterate over each line in the CSV file and prepare data for insertion\n",
    "    for line in csvreader:\n",
    "        query = \"INSERT INTO song_history (song_title, user_id, user_first_name, user_last_name) \"\n",
    "        query += \"VALUES (%s, %s, %s, %s)\"\n",
    "        \n",
    "        # Execute the INSERT query with data mapped from the CSV file\n",
    "        session.execute(query, (line[9], int(line[10]), line[1], line[4]))\n",
    "\n",
    "\n",
    "# Query to fetch all users who have listened to a specified song\n",
    "query = \"\"\"\n",
    "SELECT user_first_name, user_last_name \n",
    "FROM song_history \n",
    "WHERE song_title = %s\n",
    "\"\"\"\n",
    "\n",
    "# Specify the values for the query parameters\n",
    "song_title = 'All Hands Against His Own'\n",
    "\n",
    "try:\n",
    "    rows = session.execute(query, [song_title])\n",
    "    for row in rows:\n",
    "        print(row.user_first_name, row.user_last_name)\n",
    "except Exception as e:\n",
    "    print(e)\n"
   ]
  },
  {
   "cell_type": "code",
   "execution_count": null,
   "metadata": {},
   "outputs": [],
   "source": []
  },
  {
   "cell_type": "code",
   "execution_count": null,
   "metadata": {},
   "outputs": [],
   "source": []
  },
  {
   "cell_type": "markdown",
   "metadata": {},
   "source": [
    "### Drop the tables before closing out the sessions"
   ]
  },
  {
   "cell_type": "code",
   "execution_count": 17,
   "metadata": {},
   "outputs": [],
   "source": []
  },
  {
   "cell_type": "code",
   "execution_count": 14,
   "metadata": {},
   "outputs": [
    {
     "name": "stdout",
     "output_type": "stream",
     "text": [
      "Table music_app_history dropped successfully.\n",
      "Table user_session_history dropped successfully.\n",
      "Table song_history dropped successfully.\n"
     ]
    }
   ],
   "source": [
    "# List of all tables\n",
    "tables = ['music_app_history', 'user_session_history', 'song_history']\n",
    "\n",
    "# # Loop through the list and attempt to drop each table\n",
    "for table in tables:\n",
    "    try:\n",
    "        session.execute(f\"DROP TABLE IF EXISTS {table};\")\n",
    "        print(f\"Table {table} dropped successfully.\")\n",
    "    except Exception as e:\n",
    "        print(f\"Failed to drop table {table}: {e}\")\n"
   ]
  },
  {
   "cell_type": "markdown",
   "metadata": {},
   "source": [
    "### Close the session and cluster connection¶"
   ]
  },
  {
   "cell_type": "code",
   "execution_count": 15,
   "metadata": {},
   "outputs": [],
   "source": [
    "session.shutdown()\n",
    "cluster.shutdown()"
   ]
  },
  {
   "cell_type": "code",
   "execution_count": null,
   "metadata": {},
   "outputs": [],
   "source": []
  },
  {
   "cell_type": "code",
   "execution_count": null,
   "metadata": {},
   "outputs": [],
   "source": []
  }
 ],
 "metadata": {
  "kernelspec": {
   "display_name": "Python 3",
   "language": "python",
   "name": "python3"
  },
  "language_info": {
   "codemirror_mode": {
    "name": "ipython",
    "version": 3
   },
   "file_extension": ".py",
   "mimetype": "text/x-python",
   "name": "python",
   "nbconvert_exporter": "python",
   "pygments_lexer": "ipython3",
   "version": "3.6.3"
  }
 },
 "nbformat": 4,
 "nbformat_minor": 2
}
